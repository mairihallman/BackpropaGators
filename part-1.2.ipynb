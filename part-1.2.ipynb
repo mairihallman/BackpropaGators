{
 "cells": [
  {
   "cell_type": "markdown",
   "id": "51b4972f-c2e9-4d97-aa53-ef62c307ad0b",
   "metadata": {},
   "source": [
    "# Part 1.2"
   ]
  },
  {
   "cell_type": "code",
   "execution_count": 1,
   "id": "47689267-9d6b-46b8-ade9-ca787ee2edb8",
   "metadata": {},
   "outputs": [],
   "source": [
    "from tensorflow.keras.datasets import mnist\n",
    "from tensorflow.keras.layers import Dense, Flatten, Input\n",
    "from tensorflow.keras.losses import SparseCategoricalCrossentropy\n",
    "from tensorflow.keras.models import Sequential\n",
    "from tensorflow.random import set_seed"
   ]
  },
  {
   "cell_type": "code",
   "execution_count": 2,
   "id": "23134e06-acac-42c0-927a-bc93aa26de06",
   "metadata": {},
   "outputs": [],
   "source": [
    "set_seed(1)"
   ]
  },
  {
   "cell_type": "code",
   "execution_count": 3,
   "id": "85ba13bd-1849-43b2-96ad-6c391dadc566",
   "metadata": {},
   "outputs": [],
   "source": [
    "# load dataset\n",
    "(x_train, y_train), (x_test, y_test) = mnist.load_data()"
   ]
  },
  {
   "cell_type": "code",
   "execution_count": 4,
   "id": "a3bc5b85-0ff4-498b-b3e4-172f009fbae0",
   "metadata": {},
   "outputs": [],
   "source": [
    "def my_model(shape, n, x_train, y_train):\n",
    "    \"\"\"\n",
    "    Initializes, compiles, and fits a model.\n",
    "    \n",
    "    Parameters:\n",
    "    - shape: tuple, the shape of the input images ((28,28) for minst)\n",
    "    - n: int, the number of classes (10 for minst)\n",
    "    - x_train: numpy.ndarray\n",
    "    - y_train: numpy.ndarray\n",
    "      \n",
    "    Returns:\n",
    "    - The fitted model.\n",
    "    \"\"\"\n",
    "    \n",
    "    # initialize model\n",
    "    model = Sequential([\n",
    "        Input(shape=(28, 28)),\n",
    "        Flatten(),\n",
    "        Dense(10, activation=\"linear\")\n",
    "    ])\n",
    "\n",
    "    # compile model\n",
    "    model.compile(optimizer=\"adam\",\n",
    "                  loss=SparseCategoricalCrossentropy(from_logits=True), # from_logits=True applies softmax to loss\n",
    "                  metrics=[\"accuracy\"]\n",
    "                 )\n",
    "\n",
    "    # fit model\n",
    "    model.fit(x_train, y_train)\n",
    "    \n",
    "    return model"
   ]
  },
  {
   "cell_type": "code",
   "execution_count": 5,
   "id": "08eb4ac4-6415-4525-8c39-d5b55d588cea",
   "metadata": {},
   "outputs": [
    {
     "name": "stdout",
     "output_type": "stream",
     "text": [
      "\u001b[1m1875/1875\u001b[0m \u001b[32m━━━━━━━━━━━━━━━━━━━━\u001b[0m\u001b[37m\u001b[0m \u001b[1m5s\u001b[0m 2ms/step - accuracy: 0.7679 - loss: 17.7390\n"
     ]
    }
   ],
   "source": [
    "model = my_model((28,28),10,x_train,y_train)"
   ]
  },
  {
   "cell_type": "code",
   "execution_count": 6,
   "id": "5f252ed7-8803-4e88-80c8-ec402a761b13",
   "metadata": {},
   "outputs": [
    {
     "name": "stdout",
     "output_type": "stream",
     "text": [
      "\u001b[1m313/313\u001b[0m \u001b[32m━━━━━━━━━━━━━━━━━━━━\u001b[0m\u001b[37m\u001b[0m \u001b[1m1s\u001b[0m 2ms/step - accuracy: 0.8573 - loss: 6.9971\n"
     ]
    }
   ],
   "source": [
    "# evaluate model\n",
    "test_loss, test_acc = model.evaluate(x_test, y_test)"
   ]
  }
 ],
 "metadata": {
  "kernelspec": {
   "display_name": "4373-project",
   "language": "python",
   "name": "4373-project"
  },
  "language_info": {
   "codemirror_mode": {
    "name": "ipython",
    "version": 3
   },
   "file_extension": ".py",
   "mimetype": "text/x-python",
   "name": "python",
   "nbconvert_exporter": "python",
   "pygments_lexer": "ipython3",
   "version": "3.11.4"
  }
 },
 "nbformat": 4,
 "nbformat_minor": 5
}
